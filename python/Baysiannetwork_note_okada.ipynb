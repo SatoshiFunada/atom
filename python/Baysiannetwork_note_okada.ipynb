{
 "cells": [
  {
   "cell_type": "markdown",
   "metadata": {},
   "source": [
    "## ベイジアンネットッワークの構造学習\n",
    "\n",
    "ベイジアンネットワークは、確率変数間の依存関係を有向グラフで表現したモデルである。\n",
    "\n",
    "ベイジアンネットワーク推定のインプットデータは、\n",
    "\n",
    "サンプル by ノードの行列データセットであり、ノード間の依存関係を表したグラフと各エッジごとに定義される条件付き確率の表を推定する。\n",
    "\n",
    "データセットはカテゴリカルな離散変数と、連続変数どちらも扱うことができる。\n",
    "\n",
    "推定されるグラフはループを持たないグラフとなる。\n",
    "\n",
    "各サンプルが時系列の情報を持つ場合、異なる時刻のノードは別ノードと扱い、時刻t+1のノードは時刻tのノードに依存するなどの制約のもと学習を行う（動的ベイジアンネットワーク）。\n",
    "\n",
    "ベイジアンネットワークの学習は、まず最適な構造を決定するステップ、\n",
    "\n",
    "そのグラフ構造の元条件付き確率表を学習するステップの２つのステップからなる。\n",
    "\n",
    "データセットから、ネットワーク構造を推定する方法にはいくつものアルゴリズムがあるが、\n",
    "\n",
    "ノード間の条件付き独立性を検定し条件を満たすネットワークを構築する方法、\n",
    "\n",
    "ネットワークごとに計算されるスコア関数を用いる方法に大別される。\n",
    "\n",
    "参考資料\n",
    "http://kamonohashiperry.com/archives/1031\n",
    "http://www.sakurai.comp.ae.keio.ac.jp/classes/infosem-class/2009/08BayesianNetwork-Learning.pdf\n",
    "「確率的グラフィカルモデル」"
   ]
  },
  {
   "cell_type": "code",
   "execution_count": 9,
   "metadata": {},
   "outputs": [
    {
     "data": {
      "text/html": [
       "<table>\n",
       "<thead><tr><th scope=col>A</th><th scope=col>B</th><th scope=col>C</th><th scope=col>D</th><th scope=col>E</th><th scope=col>F</th></tr></thead>\n",
       "<tbody>\n",
       "\t<tr><td>b</td><td>c</td><td>b</td><td>a</td><td>b</td><td>b</td></tr>\n",
       "\t<tr><td>b</td><td>a</td><td>c</td><td>a</td><td>b</td><td>b</td></tr>\n",
       "\t<tr><td>a</td><td>a</td><td>a</td><td>a</td><td>a</td><td>a</td></tr>\n",
       "\t<tr><td>a</td><td>a</td><td>a</td><td>a</td><td>b</td><td>b</td></tr>\n",
       "\t<tr><td>a</td><td>a</td><td>b</td><td>c</td><td>a</td><td>a</td></tr>\n",
       "\t<tr><td>c</td><td>c</td><td>a</td><td>c</td><td>c</td><td>a</td></tr>\n",
       "</tbody>\n",
       "</table>\n"
      ],
      "text/latex": [
       "\\begin{tabular}{r|llllll}\n",
       " A & B & C & D & E & F\\\\\n",
       "\\hline\n",
       "\t b & c & b & a & b & b\\\\\n",
       "\t b & a & c & a & b & b\\\\\n",
       "\t a & a & a & a & a & a\\\\\n",
       "\t a & a & a & a & b & b\\\\\n",
       "\t a & a & b & c & a & a\\\\\n",
       "\t c & c & a & c & c & a\\\\\n",
       "\\end{tabular}\n"
      ],
      "text/markdown": [
       "\n",
       "| A | B | C | D | E | F |\n",
       "|---|---|---|---|---|---|\n",
       "| b | c | b | a | b | b |\n",
       "| b | a | c | a | b | b |\n",
       "| a | a | a | a | a | a |\n",
       "| a | a | a | a | b | b |\n",
       "| a | a | b | c | a | a |\n",
       "| c | c | a | c | c | a |\n",
       "\n"
      ],
      "text/plain": [
       "  A B C D E F\n",
       "1 b c b a b b\n",
       "2 b a c a b b\n",
       "3 a a a a a a\n",
       "4 a a a a b b\n",
       "5 a a b c a a\n",
       "6 c c a c c a"
      ]
     },
     "metadata": {},
     "output_type": "display_data"
    },
    {
     "data": {
      "image/png": "[encoded data removed]",
      "text/plain": [
       "Plot with title “HC”"
      ]
     },
     "metadata": {},
     "output_type": "display_data"
    }
   ],
   "source": [
    "#Network Structure Learning\n",
    "library(bnlearn)\n",
    "data(learning.test)\n",
    "df <- learning.test\n",
    "head(df)\n",
    "res <- hc(df)\n",
    "plot(res, main = \"HC\")"
   ]
  },
  {
   "cell_type": "code",
   "execution_count": 10,
   "metadata": {},
   "outputs": [
    {
     "data": {
      "text/plain": [
       "\n",
       "  Bayesian network parameters\n",
       "\n",
       "  Parameters of node A (multinomial distribution)\n",
       "\n",
       "Conditional probability table:\n",
       "      a      b      c \n",
       "0.3336 0.3340 0.3324 \n",
       "\n",
       "  Parameters of node B (multinomial distribution)\n",
       "\n",
       "Conditional probability table:\n",
       " \n",
       "   A\n",
       "B            a          b          c\n",
       "  a 0.85611511 0.44491018 0.11492178\n",
       "  b 0.02517986 0.22095808 0.09446450\n",
       "  c 0.11870504 0.33413174 0.79061372\n",
       "\n",
       "  Parameters of node C (multinomial distribution)\n",
       "\n",
       "Conditional probability table:\n",
       "      a      b      c \n",
       "0.7434 0.2048 0.0518 \n",
       "\n",
       "  Parameters of node D (multinomial distribution)\n",
       "\n",
       "Conditional probability table:\n",
       " \n",
       ", , C = a\n",
       "\n",
       "   A\n",
       "D            a          b          c\n",
       "  a 0.80081301 0.09251810 0.10530547\n",
       "  b 0.09024390 0.80209171 0.11173633\n",
       "  c 0.10894309 0.10539019 0.78295820\n",
       "\n",
       ", , C = b\n",
       "\n",
       "   A\n",
       "D            a          b          c\n",
       "  a 0.18079096 0.88304094 0.24695122\n",
       "  b 0.13276836 0.07017544 0.49390244\n",
       "  c 0.68644068 0.04678363 0.25914634\n",
       "\n",
       ", , C = c\n",
       "\n",
       "   A\n",
       "D            a          b          c\n",
       "  a 0.42857143 0.34117647 0.13333333\n",
       "  b 0.20238095 0.38823529 0.44444444\n",
       "  c 0.36904762 0.27058824 0.42222222\n",
       "\n",
       "\n",
       "  Parameters of node E (multinomial distribution)\n",
       "\n",
       "Conditional probability table:\n",
       " \n",
       ", , F = a\n",
       "\n",
       "   B\n",
       "E            a          b          c\n",
       "  a 0.80524979 0.20588235 0.11937378\n",
       "  b 0.09737511 0.17973856 0.11448141\n",
       "  c 0.09737511 0.61437908 0.76614481\n",
       "\n",
       ", , F = b\n",
       "\n",
       "   B\n",
       "E            a          b          c\n",
       "  a 0.40050804 0.31679389 0.23759542\n",
       "  b 0.49026249 0.36641221 0.50667939\n",
       "  c 0.10922947 0.31679389 0.25572519\n",
       "\n",
       "\n",
       "  Parameters of node F (multinomial distribution)\n",
       "\n",
       "Conditional probability table:\n",
       "      a      b \n",
       "0.5018 0.4982 \n"
      ]
     },
     "metadata": {},
     "output_type": "display_data"
    }
   ],
   "source": [
    "#Estimete parameter\n",
    "#各エッジごとに条件付き確率表が計算でできる\n",
    "bn.fit(res, df,method = \"mle\")"
   ]
  },
  {
   "cell_type": "code",
   "execution_count": null,
   "metadata": {},
   "outputs": [],
   "source": []
  }
 ],
 "metadata": {
  "kernelspec": {
   "display_name": "R",
   "language": "R",
   "name": "ir"
  },
  "language_info": {
   "codemirror_mode": "r",
   "file_extension": ".r",
   "mimetype": "text/x-r-source",
   "name": "R",
   "pygments_lexer": "r",
   "version": "3.4.1"
  }
 },
 "nbformat": 4,
 "nbformat_minor": 2
}
